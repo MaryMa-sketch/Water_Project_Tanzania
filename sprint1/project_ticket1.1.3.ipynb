{
 "cells": [
  {
   "cell_type": "markdown",
   "id": "6f9aea35",
   "metadata": {},
   "source": [
    "# **Create summary statistics for all features**\n",
    "\n",
    "## **Target variable distribution across classes**\n",
    "```\n",
    "TRAINING: Target Distribution \n",
    "                         count          %\n",
    "status_group                             \n",
    "functional               32259  54.308081\n",
    "non functional           22824  38.424242\n",
    "functional needs repair   4317   7.267677\n",
    "```\n",
    "\n",
    "\n",
    "## **Functional (54%)**\n",
    "  - Over half the waterpoints are operational and don’t need repair.\n",
    "\n",
    "## **Non functional (38%)**\n",
    "  - A large portion (almost 40%) are not working \n",
    "\n",
    "## **Functional needs repair (7%)**\n",
    "  - A much smaller class — these are working but need maintenance."
   ]
  }
 ],
 "metadata": {
  "kernelspec": {
   "display_name": "env",
   "language": "python",
   "name": "python3"
  },
  "language_info": {
   "codemirror_mode": {
    "name": "ipython",
    "version": 3
   },
   "file_extension": ".py",
   "mimetype": "text/x-python",
   "name": "python",
   "nbconvert_exporter": "python",
   "pygments_lexer": "ipython3",
   "version": "3.12.3"
  }
 },
 "nbformat": 4,
 "nbformat_minor": 5
}
