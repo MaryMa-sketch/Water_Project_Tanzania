{
 "cells": [
  {
   "cell_type": "markdown",
   "id": "0a3021df",
   "metadata": {},
   "source": [
    "# **Loading dataset and Profiling**\n",
    "\n",
    "## **Test set**\n",
    "```text\n",
    "Dimensions\n",
    "Rows     14850\n",
    "Columns     40\n",
    "\n",
    "  \n",
    "Missing Values \n",
    "              Column  Missing Count  Missing %\n",
    "0        scheme_name           7242      48.77\n",
    "1  scheme_management            969       6.53\n",
    "2          installer            877       5.91\n",
    "3             funder            870       5.86\n",
    "4     public_meeting            821       5.53\n",
    "5             permit            737       4.96\n",
    "6         subvillage             99       0.67\n",
    "\n",
    "  \n",
    "Column Type Counts \n",
    "    Dtype  Count\n",
    "0   object     30\n",
    "1    int64      7\n",
    "2  float64      3\n",
    "```"
   ]
  },
  {
   "cell_type": "markdown",
   "id": "8f200b02",
   "metadata": {},
   "source": [
    "## **Train set**\n",
    "```text\n",
    "Dimensions\n",
    "Rows     59400\n",
    "Columns     41\n",
    "\n",
    "\n",
    "Missing Values \n",
    "              Column  Missing Count  Missing %\n",
    "0        scheme_name          28810      48.50\n",
    "1  scheme_management           3878       6.53\n",
    "2          installer           3655       6.15\n",
    "3             funder           3637       6.12\n",
    "4     public_meeting           3334       5.61\n",
    "5             permit           3056       5.14\n",
    "6         subvillage            371       0.62\n",
    "7           wpt_name              2       0.00\n",
    "\n",
    "\n",
    "Column Type Counts\n",
    "     Dtype  Count\n",
    "0   object     31\n",
    "1    int64      7\n",
    "2  float64      3\n",
    "```"
   ]
  }
 ],
 "metadata": {
  "kernelspec": {
   "display_name": "env",
   "language": "python",
   "name": "python3"
  },
  "language_info": {
   "codemirror_mode": {
    "name": "ipython",
    "version": 3
   },
   "file_extension": ".py",
   "mimetype": "text/x-python",
   "name": "python",
   "nbconvert_exporter": "python",
   "pygments_lexer": "ipython3",
   "version": "3.12.3"
  }
 },
 "nbformat": 4,
 "nbformat_minor": 5
}
